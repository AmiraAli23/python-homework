{
 "cells": [
  {
   "cell_type": "code",
   "execution_count": 1,
   "id": "faf4a38e",
   "metadata": {},
   "outputs": [],
   "source": [
    "# Import Dependencies\n",
    "import pandas as pd\n",
    "import numpy as np\n",
    "import os \n",
    "import numpy_financial as npf"
   ]
  },
  {
   "cell_type": "code",
   "execution_count": 2,
   "id": "0d007e83",
   "metadata": {},
   "outputs": [
    {
     "data": {
      "text/html": [
       "<div>\n",
       "<style scoped>\n",
       "    .dataframe tbody tr th:only-of-type {\n",
       "        vertical-align: middle;\n",
       "    }\n",
       "\n",
       "    .dataframe tbody tr th {\n",
       "        vertical-align: top;\n",
       "    }\n",
       "\n",
       "    .dataframe thead th {\n",
       "        text-align: right;\n",
       "    }\n",
       "</style>\n",
       "<table border=\"1\" class=\"dataframe\">\n",
       "  <thead>\n",
       "    <tr style=\"text-align: right;\">\n",
       "      <th></th>\n",
       "      <th>Date</th>\n",
       "      <th>Profit/Losses</th>\n",
       "    </tr>\n",
       "  </thead>\n",
       "  <tbody>\n",
       "    <tr>\n",
       "      <th>0</th>\n",
       "      <td>Jan-2010</td>\n",
       "      <td>867884</td>\n",
       "    </tr>\n",
       "    <tr>\n",
       "      <th>1</th>\n",
       "      <td>Feb-2010</td>\n",
       "      <td>984655</td>\n",
       "    </tr>\n",
       "    <tr>\n",
       "      <th>2</th>\n",
       "      <td>Mar-2010</td>\n",
       "      <td>322013</td>\n",
       "    </tr>\n",
       "    <tr>\n",
       "      <th>3</th>\n",
       "      <td>Apr-2010</td>\n",
       "      <td>-69417</td>\n",
       "    </tr>\n",
       "    <tr>\n",
       "      <th>4</th>\n",
       "      <td>May-2010</td>\n",
       "      <td>310503</td>\n",
       "    </tr>\n",
       "  </tbody>\n",
       "</table>\n",
       "</div>"
      ],
      "text/plain": [
       "       Date  Profit/Losses\n",
       "0  Jan-2010         867884\n",
       "1  Feb-2010         984655\n",
       "2  Mar-2010         322013\n",
       "3  Apr-2010         -69417\n",
       "4  May-2010         310503"
      ]
     },
     "execution_count": 2,
     "metadata": {},
     "output_type": "execute_result"
    }
   ],
   "source": [
    "# Importing CSV file and Converting to DataFrame\n",
    "file= \"/Users/amiraali/Desktop/Fintech/python-homework/PyBank/budget_data.csv\"\n",
    "budget_df= pd.read_csv(file)\n",
    "budget_df.head()"
   ]
  },
  {
   "cell_type": "code",
   "execution_count": 3,
   "id": "c42e0742",
   "metadata": {},
   "outputs": [
    {
     "data": {
      "text/plain": [
       "86"
      ]
     },
     "execution_count": 3,
     "metadata": {},
     "output_type": "execute_result"
    }
   ],
   "source": [
    "# Total Number of Months\n",
    "\n",
    "Number_Months=len(budget_df[\"Date\"])\n",
    "Number_Months"
   ]
  },
  {
   "cell_type": "code",
   "execution_count": 4,
   "id": "be67a6a4",
   "metadata": {},
   "outputs": [
    {
     "data": {
      "text/plain": [
       "38382578"
      ]
     },
     "execution_count": 4,
     "metadata": {},
     "output_type": "execute_result"
    }
   ],
   "source": [
    "# Total amount of Profit/Losses over the entire period\n",
    "Profit_Loss=sum(budget_df[\"Profit/Losses\"])\n",
    "Profit_Loss"
   ]
  },
  {
   "cell_type": "code",
   "execution_count": 5,
   "id": "15d1c4a9",
   "metadata": {},
   "outputs": [],
   "source": [
    "# Add another column and shift profit/losses values down one\n",
    "budget_df[\"Difference\"]=budget_df[\"Profit/Losses\"].shift(1)"
   ]
  },
  {
   "cell_type": "code",
   "execution_count": 7,
   "id": "d76dae31",
   "metadata": {
    "scrolled": true
   },
   "outputs": [
    {
     "data": {
      "text/html": [
       "<div>\n",
       "<style scoped>\n",
       "    .dataframe tbody tr th:only-of-type {\n",
       "        vertical-align: middle;\n",
       "    }\n",
       "\n",
       "    .dataframe tbody tr th {\n",
       "        vertical-align: top;\n",
       "    }\n",
       "\n",
       "    .dataframe thead th {\n",
       "        text-align: right;\n",
       "    }\n",
       "</style>\n",
       "<table border=\"1\" class=\"dataframe\">\n",
       "  <thead>\n",
       "    <tr style=\"text-align: right;\">\n",
       "      <th></th>\n",
       "      <th>Date</th>\n",
       "      <th>Profit/Losses</th>\n",
       "      <th>Difference</th>\n",
       "    </tr>\n",
       "  </thead>\n",
       "  <tbody>\n",
       "    <tr>\n",
       "      <th>0</th>\n",
       "      <td>Jan-2010</td>\n",
       "      <td>867884</td>\n",
       "      <td>NaN</td>\n",
       "    </tr>\n",
       "    <tr>\n",
       "      <th>1</th>\n",
       "      <td>Feb-2010</td>\n",
       "      <td>984655</td>\n",
       "      <td>867884.0</td>\n",
       "    </tr>\n",
       "    <tr>\n",
       "      <th>2</th>\n",
       "      <td>Mar-2010</td>\n",
       "      <td>322013</td>\n",
       "      <td>984655.0</td>\n",
       "    </tr>\n",
       "    <tr>\n",
       "      <th>3</th>\n",
       "      <td>Apr-2010</td>\n",
       "      <td>-69417</td>\n",
       "      <td>322013.0</td>\n",
       "    </tr>\n",
       "    <tr>\n",
       "      <th>4</th>\n",
       "      <td>May-2010</td>\n",
       "      <td>310503</td>\n",
       "      <td>-69417.0</td>\n",
       "    </tr>\n",
       "  </tbody>\n",
       "</table>\n",
       "</div>"
      ],
      "text/plain": [
       "       Date  Profit/Losses  Difference\n",
       "0  Jan-2010         867884         NaN\n",
       "1  Feb-2010         984655    867884.0\n",
       "2  Mar-2010         322013    984655.0\n",
       "3  Apr-2010         -69417    322013.0\n",
       "4  May-2010         310503    -69417.0"
      ]
     },
     "execution_count": 7,
     "metadata": {},
     "output_type": "execute_result"
    }
   ],
   "source": [
    "budget_df.head()"
   ]
  },
  {
   "cell_type": "code",
   "execution_count": 8,
   "id": "a8e3dc22",
   "metadata": {},
   "outputs": [
    {
     "data": {
      "text/html": [
       "<div>\n",
       "<style scoped>\n",
       "    .dataframe tbody tr th:only-of-type {\n",
       "        vertical-align: middle;\n",
       "    }\n",
       "\n",
       "    .dataframe tbody tr th {\n",
       "        vertical-align: top;\n",
       "    }\n",
       "\n",
       "    .dataframe thead th {\n",
       "        text-align: right;\n",
       "    }\n",
       "</style>\n",
       "<table border=\"1\" class=\"dataframe\">\n",
       "  <thead>\n",
       "    <tr style=\"text-align: right;\">\n",
       "      <th></th>\n",
       "      <th>Date</th>\n",
       "      <th>Profit/Losses</th>\n",
       "      <th>Difference</th>\n",
       "      <th>Change</th>\n",
       "    </tr>\n",
       "  </thead>\n",
       "  <tbody>\n",
       "    <tr>\n",
       "      <th>0</th>\n",
       "      <td>Jan-2010</td>\n",
       "      <td>867884</td>\n",
       "      <td>NaN</td>\n",
       "      <td>NaN</td>\n",
       "    </tr>\n",
       "    <tr>\n",
       "      <th>1</th>\n",
       "      <td>Feb-2010</td>\n",
       "      <td>984655</td>\n",
       "      <td>867884.0</td>\n",
       "      <td>116771.0</td>\n",
       "    </tr>\n",
       "    <tr>\n",
       "      <th>2</th>\n",
       "      <td>Mar-2010</td>\n",
       "      <td>322013</td>\n",
       "      <td>984655.0</td>\n",
       "      <td>-662642.0</td>\n",
       "    </tr>\n",
       "    <tr>\n",
       "      <th>3</th>\n",
       "      <td>Apr-2010</td>\n",
       "      <td>-69417</td>\n",
       "      <td>322013.0</td>\n",
       "      <td>-391430.0</td>\n",
       "    </tr>\n",
       "    <tr>\n",
       "      <th>4</th>\n",
       "      <td>May-2010</td>\n",
       "      <td>310503</td>\n",
       "      <td>-69417.0</td>\n",
       "      <td>379920.0</td>\n",
       "    </tr>\n",
       "  </tbody>\n",
       "</table>\n",
       "</div>"
      ],
      "text/plain": [
       "       Date  Profit/Losses  Difference    Change\n",
       "0  Jan-2010         867884         NaN       NaN\n",
       "1  Feb-2010         984655    867884.0  116771.0\n",
       "2  Mar-2010         322013    984655.0 -662642.0\n",
       "3  Apr-2010         -69417    322013.0 -391430.0\n",
       "4  May-2010         310503    -69417.0  379920.0"
      ]
     },
     "execution_count": 8,
     "metadata": {},
     "output_type": "execute_result"
    }
   ],
   "source": [
    "# Add change column \n",
    "budget_df[\"Change\"]=budget_df[\"Profit/Losses\"]-budget_df[\"Difference\"]\n",
    "budget_df.head()"
   ]
  },
  {
   "cell_type": "code",
   "execution_count": 9,
   "id": "0f4a5a94",
   "metadata": {},
   "outputs": [
    {
     "data": {
      "text/html": [
       "<div>\n",
       "<style scoped>\n",
       "    .dataframe tbody tr th:only-of-type {\n",
       "        vertical-align: middle;\n",
       "    }\n",
       "\n",
       "    .dataframe tbody tr th {\n",
       "        vertical-align: top;\n",
       "    }\n",
       "\n",
       "    .dataframe thead th {\n",
       "        text-align: right;\n",
       "    }\n",
       "</style>\n",
       "<table border=\"1\" class=\"dataframe\">\n",
       "  <thead>\n",
       "    <tr style=\"text-align: right;\">\n",
       "      <th></th>\n",
       "      <th>Date</th>\n",
       "      <th>Profit/Losses</th>\n",
       "      <th>Difference</th>\n",
       "      <th>Change</th>\n",
       "    </tr>\n",
       "  </thead>\n",
       "  <tbody>\n",
       "    <tr>\n",
       "      <th>0</th>\n",
       "      <td>Jan-2010</td>\n",
       "      <td>867884</td>\n",
       "      <td>0.0</td>\n",
       "      <td>0.0</td>\n",
       "    </tr>\n",
       "    <tr>\n",
       "      <th>1</th>\n",
       "      <td>Feb-2010</td>\n",
       "      <td>984655</td>\n",
       "      <td>867884.0</td>\n",
       "      <td>116771.0</td>\n",
       "    </tr>\n",
       "    <tr>\n",
       "      <th>2</th>\n",
       "      <td>Mar-2010</td>\n",
       "      <td>322013</td>\n",
       "      <td>984655.0</td>\n",
       "      <td>-662642.0</td>\n",
       "    </tr>\n",
       "    <tr>\n",
       "      <th>3</th>\n",
       "      <td>Apr-2010</td>\n",
       "      <td>-69417</td>\n",
       "      <td>322013.0</td>\n",
       "      <td>-391430.0</td>\n",
       "    </tr>\n",
       "    <tr>\n",
       "      <th>4</th>\n",
       "      <td>May-2010</td>\n",
       "      <td>310503</td>\n",
       "      <td>-69417.0</td>\n",
       "      <td>379920.0</td>\n",
       "    </tr>\n",
       "    <tr>\n",
       "      <th>...</th>\n",
       "      <td>...</td>\n",
       "      <td>...</td>\n",
       "      <td>...</td>\n",
       "      <td>...</td>\n",
       "    </tr>\n",
       "    <tr>\n",
       "      <th>81</th>\n",
       "      <td>Oct-2016</td>\n",
       "      <td>102685</td>\n",
       "      <td>768450.0</td>\n",
       "      <td>-665765.0</td>\n",
       "    </tr>\n",
       "    <tr>\n",
       "      <th>82</th>\n",
       "      <td>Nov-2016</td>\n",
       "      <td>795914</td>\n",
       "      <td>102685.0</td>\n",
       "      <td>693229.0</td>\n",
       "    </tr>\n",
       "    <tr>\n",
       "      <th>83</th>\n",
       "      <td>Dec-2016</td>\n",
       "      <td>60988</td>\n",
       "      <td>795914.0</td>\n",
       "      <td>-734926.0</td>\n",
       "    </tr>\n",
       "    <tr>\n",
       "      <th>84</th>\n",
       "      <td>Jan-2017</td>\n",
       "      <td>138230</td>\n",
       "      <td>60988.0</td>\n",
       "      <td>77242.0</td>\n",
       "    </tr>\n",
       "    <tr>\n",
       "      <th>85</th>\n",
       "      <td>Feb-2017</td>\n",
       "      <td>671099</td>\n",
       "      <td>138230.0</td>\n",
       "      <td>532869.0</td>\n",
       "    </tr>\n",
       "  </tbody>\n",
       "</table>\n",
       "<p>86 rows × 4 columns</p>\n",
       "</div>"
      ],
      "text/plain": [
       "        Date  Profit/Losses  Difference    Change\n",
       "0   Jan-2010         867884         0.0       0.0\n",
       "1   Feb-2010         984655    867884.0  116771.0\n",
       "2   Mar-2010         322013    984655.0 -662642.0\n",
       "3   Apr-2010         -69417    322013.0 -391430.0\n",
       "4   May-2010         310503    -69417.0  379920.0\n",
       "..       ...            ...         ...       ...\n",
       "81  Oct-2016         102685    768450.0 -665765.0\n",
       "82  Nov-2016         795914    102685.0  693229.0\n",
       "83  Dec-2016          60988    795914.0 -734926.0\n",
       "84  Jan-2017         138230     60988.0   77242.0\n",
       "85  Feb-2017         671099    138230.0  532869.0\n",
       "\n",
       "[86 rows x 4 columns]"
      ]
     },
     "execution_count": 9,
     "metadata": {},
     "output_type": "execute_result"
    }
   ],
   "source": [
    "# Filling \"NaN\" with 0\n",
    "budget_df[\"Change\"]=(budget_df).fillna(0)[\"Change\"]\n",
    "budget_df[\"Difference\"]=(budget_df).fillna(0)[\"Difference\"]\n",
    "budget_df"
   ]
  },
  {
   "cell_type": "code",
   "execution_count": 54,
   "id": "42ae4fc1",
   "metadata": {
    "scrolled": false
   },
   "outputs": [
    {
     "name": "stdout",
     "output_type": "stream",
     "text": [
      " The average of the changes in Profit/Losses over the entire period is -2315.1176470588234.\n"
     ]
    }
   ],
   "source": [
    "# Average profit/losses over the period\n",
    "total_change= (sum(budget_df[\"Change\"]))/(Number_Months-1)\n",
    "print (f\" The average of the changes in Profit/Losses over the entire period is {total_change}.\")"
   ]
  },
  {
   "cell_type": "code",
   "execution_count": 30,
   "id": "47d29e6c",
   "metadata": {},
   "outputs": [
    {
     "data": {
      "text/plain": [
       "25"
      ]
     },
     "execution_count": 30,
     "metadata": {},
     "output_type": "execute_result"
    }
   ],
   "source": [
    "# Find the index reference of the max value\n",
    "budget_max_index=budget_df[\"Change\"].idxmax()\n",
    "budget_max_index"
   ]
  },
  {
   "cell_type": "code",
   "execution_count": 44,
   "id": "71e8a200",
   "metadata": {
    "scrolled": true
   },
   "outputs": [
    {
     "name": "stdout",
     "output_type": "stream",
     "text": [
      " The greatest increase in profit was $1926159.0 on Feb-2012.\n"
     ]
    }
   ],
   "source": [
    "# Find the max value\n",
    "max_value=budget_df[\"Change\"].max()\n",
    "max_date= budget_df[\"Date\"][25]\n",
    "print (f\" The greatest increase in profit was ${max_value} on {max_date}.\")"
   ]
  },
  {
   "cell_type": "code",
   "execution_count": 36,
   "id": "d7ba3156",
   "metadata": {},
   "outputs": [
    {
     "data": {
      "text/plain": [
       "44"
      ]
     },
     "execution_count": 36,
     "metadata": {},
     "output_type": "execute_result"
    }
   ],
   "source": [
    "# Find the index reference of the min value\n",
    "budget_min_index=budget_df[\"Change\"].idxmin()\n",
    "budget_min_index"
   ]
  },
  {
   "cell_type": "code",
   "execution_count": 46,
   "id": "67c2e9c2",
   "metadata": {},
   "outputs": [
    {
     "name": "stdout",
     "output_type": "stream",
     "text": [
      " The greatest decrease in profits was $-2196167.0 on Sep-2013.\n"
     ]
    }
   ],
   "source": [
    "# Find the min value\n",
    "min_value=budget_df[\"Change\"].min()\n",
    "min_date= budget_df[\"Date\"][44]\n",
    "print (f\" The greatest decrease in profits was ${min_value} on {min_date}.\")"
   ]
  },
  {
   "cell_type": "code",
   "execution_count": 62,
   "id": "e815150b",
   "metadata": {},
   "outputs": [
    {
     "name": "stdout",
     "output_type": "stream",
     "text": [
      "Financial Analysis\n",
      "--------------------\n",
      " Total Months: 86\n",
      " Total: $38382578\n",
      " Average Change: $-2315.12\n",
      " Greatest Increase in Profits: Feb-2012 1926159.0\n",
      " Greatest Decrease in Profits: Sep-2013 -2196167.0\n",
      "\n"
     ]
    }
   ],
   "source": [
    "# Print final analysis \n",
    "final_summary=(\n",
    "f\"Financial Analysis\\n\"\n",
    "f\"--------------------\\n\"\n",
    "f\" Total Months: {Number_Months}\\n\"\n",
    "f\" Total: ${Profit_Loss}\\n\"\n",
    "f\" Average Change: ${total_change:.2f}\\n\"\n",
    "f\" Greatest Increase in Profits: {max_date} {max_value}\\n\"\n",
    "f\" Greatest Decrease in Profits: {min_date} {min_value}\\n\"\n",
    ")\n",
    "print(final_summary)"
   ]
  },
  {
   "cell_type": "code",
   "execution_count": 65,
   "id": "ac8be3c5",
   "metadata": {},
   "outputs": [],
   "source": [
    "# Save results as text file\n",
    "file_to_save= os.path.join(\"final_summary.txt\")\n",
    "with open(file_to_save, \"w\") as text_file:\n",
    "    text_file.write(final_summary)"
   ]
  },
  {
   "cell_type": "code",
   "execution_count": null,
   "id": "7918743a",
   "metadata": {},
   "outputs": [],
   "source": []
  }
 ],
 "metadata": {
  "kernelspec": {
   "display_name": "Python 3 (ipykernel)",
   "language": "python",
   "name": "python3"
  },
  "language_info": {
   "codemirror_mode": {
    "name": "ipython",
    "version": 3
   },
   "file_extension": ".py",
   "mimetype": "text/x-python",
   "name": "python",
   "nbconvert_exporter": "python",
   "pygments_lexer": "ipython3",
   "version": "3.9.7"
  }
 },
 "nbformat": 4,
 "nbformat_minor": 5
}
